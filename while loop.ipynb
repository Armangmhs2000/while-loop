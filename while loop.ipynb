{
 "cells": [
  {
   "cell_type": "code",
   "execution_count": 1,
   "id": "f05a9aee-c246-431c-8cea-19e77f231a5b",
   "metadata": {},
   "outputs": [
    {
     "name": "stdout",
     "output_type": "stream",
     "text": [
      "Aru\n",
      "Aru\n",
      "Aru\n",
      "Aru\n",
      "Aru\n",
      "Aru\n",
      "Aru\n",
      "Aru\n",
      "Aru\n",
      "Aru\n",
      "Aru\n"
     ]
    }
   ],
   "source": [
    "i=0\n",
    "while (i<=10) :\n",
    "    print('Aru')\n",
    "    i=i+1"
   ]
  },
  {
   "cell_type": "code",
   "execution_count": 2,
   "id": "98acb482-7c28-4738-9016-fbca43dc8032",
   "metadata": {},
   "outputs": [
    {
     "name": "stdout",
     "output_type": "stream",
     "text": [
      "p\n",
      "y\n",
      "t\n",
      "h\n",
      "o\n",
      "n\n"
     ]
    }
   ],
   "source": [
    "data='python'\n",
    "i=0\n",
    "while i<len(data):\n",
    "    print(data[i])\n",
    "    i=i+1"
   ]
  },
  {
   "cell_type": "code",
   "execution_count": 3,
   "id": "57500598-e625-4ff4-bbf6-47088cfe0b81",
   "metadata": {},
   "outputs": [
    {
     "name": "stdout",
     "output_type": "stream",
     "text": [
      "I\n",
      "really\n",
      "love\n",
      "you\n"
     ]
    }
   ],
   "source": [
    "data='I really love you'\n",
    "data=data.split()\n",
    "i=0\n",
    "while i<len(data):\n",
    "    print(data[i])\n",
    "    i=i+1"
   ]
  },
  {
   "cell_type": "code",
   "execution_count": 4,
   "id": "bfecabf4-ef57-4d47-a371-c1e85d2b4c15",
   "metadata": {},
   "outputs": [
    {
     "name": "stdout",
     "output_type": "stream",
     "text": [
      "sum:  55\n"
     ]
    }
   ],
   "source": [
    "n=[1,2,3,4,5,6,7,8,9,10]\n",
    "sum=0\n",
    "i=0\n",
    "while i<len(n):\n",
    "    sum=sum+n[i]\n",
    "    i=i+1\n",
    "print('sum: ',sum)\n",
    "#sum of all elements of list "
   ]
  },
  {
   "cell_type": "code",
   "execution_count": 5,
   "id": "38da284b-40c9-4f6c-aa10-898829f6962a",
   "metadata": {},
   "outputs": [
    {
     "name": "stdout",
     "output_type": "stream",
     "text": [
      "-100 -99 -98 -97 -96 -95 -94 -93 -92 -91 -90 -89 -88 -87 -86 -85 -84 -83 -82 -81 -80 -79 -78 -77 -76 -75 -74 -73 -72 -71 -70 -69 -68 -67 -66 -65 -64 -63 -62 -61 -60 -59 -58 -57 -56 -55 -54 -53 -52 -51 -50 -49 -48 -47 -46 -45 -44 -43 -42 -41 -40 -39 -38 -37 -36 -35 -34 -33 -32 -31 -30 -29 -28 -27 -26 -25 -24 -23 -22 -21 -20 -19 -18 -17 -16 -15 -14 -13 -12 -11 -10 \n",
      "\n"
     ]
    }
   ],
   "source": [
    "# Display numbers from -100 to -10 using while loop\n",
    "i = -100\n",
    "while i <= -10:\n",
    "    print(i, end=\" \")\n",
    "    i =i+1\n",
    "print(\"\\n\")\n",
    "#end=\"\" uses for space ;\\n for new line"
   ]
  },
  {
   "cell_type": "code",
   "execution_count": 6,
   "id": "e71f7819-e16e-4c00-9fd5-a142c0a54e37",
   "metadata": {},
   "outputs": [
    {
     "name": "stdout",
     "output_type": "stream",
     "text": [
      "-100 -99 -98 -97 -96 -95 -94 -93 -92 -91 -90 -89 -88 -87 -86 -85 -84 -83 -82 -81 -80 -79 -78 -77 -76 -75 -74 -73 -72 -71 -70 -69 -68 -67 -66 -65 -64 -63 -62 -61 -60 -59 -58 -57 -56 -55 -54 -53 -52 -51 -50 -49 -48 -47 -46 -45 -44 -43 -42 -41 -40 -39 -38 -37 -36 -35 -34 -33 -32 -31 -30 -29 -28 -27 -26 -25 -24 -23 -22 -21 -20 -19 -18 -17 -16 -15 -14 -13 -12 -11 -10 "
     ]
    }
   ],
   "source": [
    " # Display numbers from -100 to -10 using while loop\n",
    "i = -100\n",
    "while i <= -10:\n",
    "    print(i, end=\" \")\n",
    "    i =i+1\n",
    "#same program withput new line command"
   ]
  },
  {
   "cell_type": "code",
   "execution_count": 7,
   "id": "0e48b843-80cf-4453-acc2-50c7eb1d6011",
   "metadata": {},
   "outputs": [
    {
     "name": "stdout",
     "output_type": "stream",
     "text": [
      "-100\n",
      "-99\n",
      "-98\n",
      "-97\n",
      "-96\n",
      "-95\n",
      "-94\n",
      "-93\n",
      "-92\n",
      "-91\n",
      "-90\n",
      "-89\n",
      "-88\n",
      "-87\n",
      "-86\n",
      "-85\n",
      "-84\n",
      "-83\n",
      "-82\n",
      "-81\n",
      "-80\n",
      "-79\n",
      "-78\n",
      "-77\n",
      "-76\n",
      "-75\n",
      "-74\n",
      "-73\n",
      "-72\n",
      "-71\n",
      "-70\n",
      "-69\n",
      "-68\n",
      "-67\n",
      "-66\n",
      "-65\n",
      "-64\n",
      "-63\n",
      "-62\n",
      "-61\n",
      "-60\n",
      "-59\n",
      "-58\n",
      "-57\n",
      "-56\n",
      "-55\n",
      "-54\n",
      "-53\n",
      "-52\n",
      "-51\n",
      "-50\n",
      "-49\n",
      "-48\n",
      "-47\n",
      "-46\n",
      "-45\n",
      "-44\n",
      "-43\n",
      "-42\n",
      "-41\n",
      "-40\n",
      "-39\n",
      "-38\n",
      "-37\n",
      "-36\n",
      "-35\n",
      "-34\n",
      "-33\n",
      "-32\n",
      "-31\n",
      "-30\n",
      "-29\n",
      "-28\n",
      "-27\n",
      "-26\n",
      "-25\n",
      "-24\n",
      "-23\n",
      "-22\n",
      "-21\n",
      "-20\n",
      "-19\n",
      "-18\n",
      "-17\n",
      "-16\n",
      "-15\n",
      "-14\n",
      "-13\n",
      "-12\n",
      "-11\n",
      "-10\n",
      "\n",
      "\n"
     ]
    }
   ],
   "source": [
    "# Display numbers from -100 to -10 using while loop\n",
    "i = -100\n",
    "while i <= -10:\n",
    "    print(i)\n",
    "    i =i+1\n",
    "print(\"\\n\")"
   ]
  },
  {
   "cell_type": "code",
   "execution_count": 8,
   "id": "24ee876e-7502-4f05-8ea5-beba44b103c1",
   "metadata": {},
   "outputs": [
    {
     "name": "stdout",
     "output_type": "stream",
     "text": [
      "Sum of primes between 10 and 1000: 76110\n"
     ]
    }
   ],
   "source": [
    "## Sum all prime numbers within a range 10 to 1000 using while loop\n",
    "i, prime_sum = 10, 0\n",
    "while i <= 1000:\n",
    "    j = 2\n",
    "    while j*j <= i and i % j != 0:\n",
    "        j += 1\n",
    "    if j*j > i:   # means i is prime\n",
    "        prime_sum += i\n",
    "    i += 1\n",
    "print(\"Sum of primes between 10 and 1000:\", prime_sum)"
   ]
  },
  {
   "cell_type": "code",
   "execution_count": 9,
   "id": "6d805a40-1209-4328-9725-06d4207f0084",
   "metadata": {},
   "outputs": [
    {
     "name": "stdin",
     "output_type": "stream",
     "text": [
      "enter the number:  5\n"
     ]
    },
    {
     "name": "stdout",
     "output_type": "stream",
     "text": [
      "Factorial of this number is:  120\n"
     ]
    }
   ],
   "source": [
    "# Find factorial of n using while loop\n",
    "n =int(input('enter the number: '))\n",
    "factorial = 1\n",
    "i = 1\n",
    "while i <= n:\n",
    "    factorial =factorial* i\n",
    "    i += 1\n",
    "print('Factorial of this number is: ', factorial)"
   ]
  },
  {
   "cell_type": "code",
   "execution_count": 10,
   "id": "9be384b5-ad4a-4e19-a99a-dcf765e9a67d",
   "metadata": {},
   "outputs": [
    {
     "name": "stdout",
     "output_type": "stream",
     "text": [
      "Original number: 27956240710\n",
      "Reversed number: 1704265972\n"
     ]
    }
   ],
   "source": [
    "#Reverse a given integer number using while loop\n",
    "num = 27956240710\n",
    "reverse_num = 0\n",
    "temp = num\n",
    "while temp > 0:\n",
    "#this loop continues until temp becomes 0.\n",
    "#Each step, we take out the last digit of temp and add it to reverse_num.\n",
    "    digit = temp % 10\n",
    "    reverse_num = reverse_num * 10 + digit\n",
    "    temp //= 10\n",
    "print(\"Original number:\", num)\n",
    "print(\"Reversed number:\", reverse_num)\n",
    "#//(floor division) removes the last digit of temp.\n",
    "# if temp = 40710, then temp = 40710 // 10 = 4071.\n",
    "#digit = 1234 % 10 = 4 → reverse_num = 0*10+4 = 4 → temp = 123\n",
    "#digit = 123 % 10 = 3 → reverse_num = 4*10+3 = 43 → temp = 12\n",
    "#digit = 12 % 10 = 2 → reverse_num = 43*10+2 = 432 → temp = 1\n",
    "#digit = 1 % 10 = 1 → reverse_num = 432*10+1 = 4321 → temp = 0 → loop stops "
   ]
  },
  {
   "cell_type": "code",
   "execution_count": 11,
   "id": "cec78ae3-e2b4-444f-b1a4-07e65c548f95",
   "metadata": {},
   "outputs": [
    {
     "name": "stdin",
     "output_type": "stream",
     "text": [
      "Enter a number:  45789\n"
     ]
    },
    {
     "name": "stdout",
     "output_type": "stream",
     "text": [
      "Reversed number: 98754\n"
     ]
    }
   ],
   "source": [
    "num = int(input(\"Enter a number: \"))\n",
    "rev = 0\n",
    "while num > 0:\n",
    "    rev = rev * 10 + num % 10\n",
    "    num //= 10\n",
    "print(\"Reversed number:\", rev)\n",
    "#we can take number from user"
   ]
  }
 ],
 "metadata": {
  "kernelspec": {
   "display_name": "Python 3 (ipykernel)",
   "language": "python",
   "name": "python3"
  },
  "language_info": {
   "codemirror_mode": {
    "name": "ipython",
    "version": 3
   },
   "file_extension": ".py",
   "mimetype": "text/x-python",
   "name": "python",
   "nbconvert_exporter": "python",
   "pygments_lexer": "ipython3",
   "version": "3.13.7"
  }
 },
 "nbformat": 4,
 "nbformat_minor": 5
}
